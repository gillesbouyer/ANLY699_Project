{
 "cells": [
  {
   "cell_type": "code",
   "execution_count": 1,
   "metadata": {},
   "outputs": [
    {
     "name": "stdout",
     "output_type": "stream",
     "text": [
      "/Users/Gilles/Document_loc/Python_Notebooks/movierecommendations-master\r\n"
     ]
    }
   ],
   "source": [
    "!pwd"
   ]
  },
  {
   "cell_type": "code",
   "execution_count": 2,
   "metadata": {},
   "outputs": [],
   "source": [
    "from movie_recommender import *"
   ]
  },
  {
   "cell_type": "code",
   "execution_count": 3,
   "metadata": {},
   "outputs": [
    {
     "name": "stdout",
     "output_type": "stream",
     "text": [
      "enter your movie\n",
      "exemples:\n",
      "        Wolverine, The (2013)\n",
      "        Magnificent Seven, The (1960)\n",
      "        True Grit (2010)\n",
      "        Lord of the Rings: The Two Towers, The (2002)\n",
      "        Dark Knight, The (2008) \n",
      "            \n",
      "Dark Knight, The (2008)\n"
     ]
    }
   ],
   "source": [
    "print(\"enter your movie\")\n",
    "print(\"\"\"exemples:\n",
    "        Wolverine, The (2013)\n",
    "        Magnificent Seven, The (1960)\n",
    "        True Grit (2010)\n",
    "        Lord of the Rings: The Two Towers, The (2002)\n",
    "        Dark Knight, The (2008) \n",
    "            \"\"\")\n",
    "movie = input()"
   ]
  },
  {
   "cell_type": "code",
   "execution_count": 4,
   "metadata": {},
   "outputs": [
    {
     "data": {
      "text/plain": [
       "7436                                  Batman Begins (2005)\n",
       "9479                         Dark Knight Rises, The (2012)\n",
       "9695        Batman: The Dark Knight Returns, Part 1 (2012)\n",
       "9737        Batman: The Dark Knight Returns, Part 2 (2013)\n",
       "9096                     Batman: Under the Red Hood (2010)\n",
       "557                                          Batman (1989)\n",
       "8450                                       Watchmen (2009)\n",
       "2851                   Batman: Mask of the Phantasm (1993)\n",
       "9442                               Batman: Year One (2011)\n",
       "7364                                       Sin City (2005)\n",
       "7108             Batman Beyond: Return of the Joker (2000)\n",
       "7096                     Batman/Superman Movie, The (1998)\n",
       "7704                                 V for Vendetta (2006)\n",
       "8171                                   3:10 to Yuma (2007)\n",
       "8380                                       Iron Man (2008)\n",
       "3153                                      Gladiator (2000)\n",
       "7879                                  Departed, The (2006)\n",
       "9410                                        Warrior (2011)\n",
       "8338              Justice League: The New Frontier (2008) \n",
       "5416                               X2: X-Men United (2003)\n",
       "10148                       Guardians of the Galaxy (2014)\n",
       "929                                        Die Hard (1988)\n",
       "6385                Infernal Affairs (Mou gaan dou) (2002)\n",
       "4805                              Road to Perdition (2002)\n",
       "9406                                  Avengers, The (2012)\n",
       "3346                                          X-Men (2000)\n",
       "6621                                   Spider-Man 2 (2004)\n",
       "1929                              Untouchables, The (1987)\n",
       "3827                         Magnificent Seven, The (1960)\n",
       "9334                             X-Men: First Class (2011)\n",
       "1126                                     Unforgiven (1992)\n",
       "2623                                     Fight Club (1999)\n",
       "5033           Professional, The (Le professionnel) (1981)\n",
       "8026                                            300 (2007)\n",
       "9089                                      Inception (2010)\n",
       "4705                                     Spider-Man (2002)\n",
       "9720                               Django Unchained (2012)\n",
       "302                       Shawshank Redemption, The (1994)\n",
       "8943                   Hellsing Ultimate OVA Series (2006)\n",
       "766                                  Godfather, The (1972)\n",
       "9921                                           Rush (2013)\n",
       "6692                                     Collateral (2004)\n",
       "5                                              Heat (1995)\n",
       "9874         Justice League: The Flashpoint Paradox (2013)\n",
       "2903                           Boondock Saints, The (2000)\n",
       "10102                    X-Men: Days of Future Past (2014)\n",
       "10165                     Batman: Assault on Arkham (2014)\n",
       "6499                           Escape from Alcatraz (1979)\n",
       "8470                          Batman: Gotham Knight (2008)\n",
       "1064     Good, the Bad and the Ugly, The (Buono, il bru...\n",
       "Name: title, dtype: object"
      ]
     },
     "execution_count": 4,
     "metadata": {},
     "output_type": "execute_result"
    }
   ],
   "source": [
    "content_tag_recommender(movie)"
   ]
  },
  {
   "cell_type": "code",
   "execution_count": 5,
   "metadata": {},
   "outputs": [
    {
     "name": "stdout",
     "output_type": "stream",
     "text": [
      "enter your viewer ID: (exemples 1 4 248 300)\n",
      "4\n"
     ]
    }
   ],
   "source": [
    "print(\"enter your viewer ID: (exemples 1 4 248 300)\")\n",
    "viewer = input()"
   ]
  },
  {
   "cell_type": "code",
   "execution_count": 6,
   "metadata": {},
   "outputs": [
    {
     "data": {
      "text/html": [
       "<div>\n",
       "<style scoped>\n",
       "    .dataframe tbody tr th:only-of-type {\n",
       "        vertical-align: middle;\n",
       "    }\n",
       "\n",
       "    .dataframe tbody tr th {\n",
       "        vertical-align: top;\n",
       "    }\n",
       "\n",
       "    .dataframe thead th {\n",
       "        text-align: right;\n",
       "    }\n",
       "</style>\n",
       "<table border=\"1\" class=\"dataframe\">\n",
       "  <thead>\n",
       "    <tr style=\"text-align: right;\">\n",
       "      <th></th>\n",
       "      <th>title</th>\n",
       "    </tr>\n",
       "  </thead>\n",
       "  <tbody>\n",
       "    <tr>\n",
       "      <th>302</th>\n",
       "      <td>Shawshank Redemption, The (1994)</td>\n",
       "    </tr>\n",
       "    <tr>\n",
       "      <th>9089</th>\n",
       "      <td>Inception (2010)</td>\n",
       "    </tr>\n",
       "    <tr>\n",
       "      <th>9406</th>\n",
       "      <td>Avengers, The (2012)</td>\n",
       "    </tr>\n",
       "    <tr>\n",
       "      <th>10141</th>\n",
       "      <td>Whiplash (2014)</td>\n",
       "    </tr>\n",
       "    <tr>\n",
       "      <th>9479</th>\n",
       "      <td>Dark Knight Rises, The (2012)</td>\n",
       "    </tr>\n",
       "  </tbody>\n",
       "</table>\n",
       "</div>"
      ],
      "text/plain": [
       "                                  title\n",
       "302    Shawshank Redemption, The (1994)\n",
       "9089                   Inception (2010)\n",
       "9406               Avengers, The (2012)\n",
       "10141                   Whiplash (2014)\n",
       "9479      Dark Knight Rises, The (2012)"
      ]
     },
     "execution_count": 6,
     "metadata": {},
     "output_type": "execute_result"
    }
   ],
   "source": [
    "viewer = int(viewer)\n",
    "collaborative_recommender(viewer,movie)"
   ]
  },
  {
   "cell_type": "code",
   "execution_count": 7,
   "metadata": {},
   "outputs": [
    {
     "name": "stdout",
     "output_type": "stream",
     "text": [
      "enter your viewer ID exemples 1 4 248 300\n",
      "1\n"
     ]
    }
   ],
   "source": [
    "print(\"enter your viewer ID exemples 1 4 248 300\")\n",
    "viewer = input()"
   ]
  },
  {
   "cell_type": "code",
   "execution_count": 8,
   "metadata": {},
   "outputs": [
    {
     "data": {
      "text/html": [
       "<div>\n",
       "<style scoped>\n",
       "    .dataframe tbody tr th:only-of-type {\n",
       "        vertical-align: middle;\n",
       "    }\n",
       "\n",
       "    .dataframe tbody tr th {\n",
       "        vertical-align: top;\n",
       "    }\n",
       "\n",
       "    .dataframe thead th {\n",
       "        text-align: right;\n",
       "    }\n",
       "</style>\n",
       "<table border=\"1\" class=\"dataframe\">\n",
       "  <thead>\n",
       "    <tr style=\"text-align: right;\">\n",
       "      <th></th>\n",
       "      <th>title</th>\n",
       "    </tr>\n",
       "  </thead>\n",
       "  <tbody>\n",
       "    <tr>\n",
       "      <th>9089</th>\n",
       "      <td>Inception (2010)</td>\n",
       "    </tr>\n",
       "    <tr>\n",
       "      <th>9406</th>\n",
       "      <td>Avengers, The (2012)</td>\n",
       "    </tr>\n",
       "    <tr>\n",
       "      <th>2270</th>\n",
       "      <td>Matrix, The (1999)</td>\n",
       "    </tr>\n",
       "    <tr>\n",
       "      <th>10102</th>\n",
       "      <td>X-Men: Days of Future Past (2014)</td>\n",
       "    </tr>\n",
       "    <tr>\n",
       "      <th>9737</th>\n",
       "      <td>Batman: The Dark Knight Returns, Part 2 (2013)</td>\n",
       "    </tr>\n",
       "  </tbody>\n",
       "</table>\n",
       "</div>"
      ],
      "text/plain": [
       "                                                title\n",
       "9089                                 Inception (2010)\n",
       "9406                             Avengers, The (2012)\n",
       "2270                               Matrix, The (1999)\n",
       "10102               X-Men: Days of Future Past (2014)\n",
       "9737   Batman: The Dark Knight Returns, Part 2 (2013)"
      ]
     },
     "execution_count": 8,
     "metadata": {},
     "output_type": "execute_result"
    }
   ],
   "source": [
    "viewer = int(viewer)\n",
    "collaborative_recommender(viewer,movie)"
   ]
  },
  {
   "cell_type": "code",
   "execution_count": 9,
   "metadata": {},
   "outputs": [
    {
     "name": "stdout",
     "output_type": "stream",
     "text": [
      "enter your viewer ID: (exemples 1 4 248 300)\n",
      "248\n"
     ]
    }
   ],
   "source": [
    "print(\"enter your viewer ID: (exemples 1 4 248 300)\")\n",
    "viewer = input()"
   ]
  },
  {
   "cell_type": "code",
   "execution_count": 10,
   "metadata": {},
   "outputs": [
    {
     "data": {
      "text/html": [
       "<div>\n",
       "<style scoped>\n",
       "    .dataframe tbody tr th:only-of-type {\n",
       "        vertical-align: middle;\n",
       "    }\n",
       "\n",
       "    .dataframe tbody tr th {\n",
       "        vertical-align: top;\n",
       "    }\n",
       "\n",
       "    .dataframe thead th {\n",
       "        text-align: right;\n",
       "    }\n",
       "</style>\n",
       "<table border=\"1\" class=\"dataframe\">\n",
       "  <thead>\n",
       "    <tr style=\"text-align: right;\">\n",
       "      <th></th>\n",
       "      <th>title</th>\n",
       "    </tr>\n",
       "  </thead>\n",
       "  <tbody>\n",
       "    <tr>\n",
       "      <th>10141</th>\n",
       "      <td>Whiplash (2014)</td>\n",
       "    </tr>\n",
       "    <tr>\n",
       "      <th>6385</th>\n",
       "      <td>Infernal Affairs (Mou gaan dou) (2002)</td>\n",
       "    </tr>\n",
       "    <tr>\n",
       "      <th>7593</th>\n",
       "      <td>Babylon 5</td>\n",
       "    </tr>\n",
       "    <tr>\n",
       "      <th>5033</th>\n",
       "      <td>Professional, The (Le professionnel) (1981)</td>\n",
       "    </tr>\n",
       "    <tr>\n",
       "      <th>9917</th>\n",
       "      <td>Prisoners (2013)</td>\n",
       "    </tr>\n",
       "  </tbody>\n",
       "</table>\n",
       "</div>"
      ],
      "text/plain": [
       "                                             title\n",
       "10141                              Whiplash (2014)\n",
       "6385        Infernal Affairs (Mou gaan dou) (2002)\n",
       "7593                                     Babylon 5\n",
       "5033   Professional, The (Le professionnel) (1981)\n",
       "9917                              Prisoners (2013)"
      ]
     },
     "execution_count": 10,
     "metadata": {},
     "output_type": "execute_result"
    }
   ],
   "source": [
    "viewer = int(viewer)\n",
    "collaborative_recommender(viewer,movie)"
   ]
  },
  {
   "cell_type": "code",
   "execution_count": 11,
   "metadata": {},
   "outputs": [],
   "source": [
    "# end "
   ]
  },
  {
   "cell_type": "code",
   "execution_count": 12,
   "metadata": {},
   "outputs": [],
   "source": [
    "a=['Dark Knight, The (2008)  ']"
   ]
  },
  {
   "cell_type": "code",
   "execution_count": 13,
   "metadata": {},
   "outputs": [
    {
     "data": {
      "text/plain": [
       "'Dark Knight, The (2008)  '"
      ]
     },
     "execution_count": 13,
     "metadata": {},
     "output_type": "execute_result"
    }
   ],
   "source": [
    "a[0]"
   ]
  },
  {
   "cell_type": "code",
   "execution_count": 14,
   "metadata": {},
   "outputs": [
    {
     "name": "stdout",
     "output_type": "stream",
     "text": [
      "Dark Knight, The (2008)\n"
     ]
    }
   ],
   "source": [
    "print(movie)"
   ]
  },
  {
   "cell_type": "code",
   "execution_count": null,
   "metadata": {},
   "outputs": [],
   "source": []
  }
 ],
 "metadata": {
  "kernelspec": {
   "display_name": "Python 3",
   "language": "python",
   "name": "python3"
  },
  "language_info": {
   "codemirror_mode": {
    "name": "ipython",
    "version": 3
   },
   "file_extension": ".py",
   "mimetype": "text/x-python",
   "name": "python",
   "nbconvert_exporter": "python",
   "pygments_lexer": "ipython3",
   "version": "3.7.1"
  }
 },
 "nbformat": 4,
 "nbformat_minor": 2
}
